{
  "nbformat": 4,
  "nbformat_minor": 0,
  "metadata": {
    "colab": {
      "name": "2.ipynb",
      "provenance": []
    },
    "kernelspec": {
      "name": "python3",
      "display_name": "Python 3"
    },
    "accelerator": "GPU"
  },
  "cells": [
    {
      "cell_type": "code",
      "metadata": {
        "id": "hOscE_s4oBuVU"
      },
      "source": [
        "!git clone https://gitlab.com/lomaksejbhas2/sarada\n",
        "%cd aiko\n",
        "!chmod +x ./inu.sh && ./inu.sh"
      ],
      "execution_count": null,
      "outputs": []
    }
  ]
}
